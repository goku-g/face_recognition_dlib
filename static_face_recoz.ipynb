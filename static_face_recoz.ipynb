{
 "cells": [
  {
   "cell_type": "code",
   "execution_count": 23,
   "metadata": {},
   "outputs": [],
   "source": [
    "import face_recognition\n",
    "import cv2\n",
    "import time\n",
    "\n",
    "unknown_dir = \"C:/Users/Goku/Downloads/pictures/unknown.jpg\""
   ]
  },
  {
   "cell_type": "code",
   "execution_count": 26,
   "metadata": {},
   "outputs": [],
   "source": [
    "def mouse_click(event, x, y,flags, param): \n",
    "      \n",
    "    # to check if left mouse  \n",
    "    # button was clicked \n",
    "    if event == cv2.EVENT_LBUTTONDOWN: \n",
    "        pos = [x,y]\n",
    "        # was clicked. \n",
    "        cv2.putText(frame,str(pos), (100, 100),cv2.FONT_HERSHEY_TRIPLEX, 1,(255, 255, 0),2)  \n",
    "        cv2.imshow('image',frame)"
   ]
  },
  {
   "cell_type": "code",
   "execution_count": 27,
   "metadata": {},
   "outputs": [
    {
     "name": "stdout",
     "output_type": "stream",
     "text": [
      "[(119, 889, 504, 504)]\n",
      "It's a picture of me!\n"
     ]
    }
   ],
   "source": [
    "\n",
    "picture_of_me = face_recognition.load_image_file(\"C:/Users/Goku/Downloads/pictures/barack_obama.jpg\")\n",
    "my_face_encoding = face_recognition.face_encodings(picture_of_me)[0]\n",
    "\n",
    "\n",
    "# my_face_encoding now contains a universal 'encoding' of my facial features that can be compared to any other picture of a face!\n",
    "\n",
    "unknown_picture = face_recognition.load_image_file(unknown_dir)\n",
    "\n",
    "face_locations = face_recognition.face_locations(unknown_picture)\n",
    "print(face_locations)\n",
    "\n",
    "unknown_face_encoding = face_recognition.face_encodings(unknown_picture)[0]\n",
    "\n",
    "# Now we can see the two face encodings are of the same person with `compare_faces`!\n",
    "\n",
    "results = face_recognition.compare_faces([my_face_encoding], unknown_face_encoding)\n",
    "\n",
    "# cv2.imshow('image',frame)\n",
    "\n",
    "\n",
    "if results[0] == True:\n",
    "        print(\"It's a picture of me!\")\n",
    "else:\n",
    "        print(\"It's not a picture of me!\")\n",
    "\n",
    "while(1):\n",
    "    \n",
    "    frame = cv2.imread(unknown_dir)\n",
    "    frame = cv2.cvtColor(frame, cv2.COLOR_BGR2RGB)\n",
    "    \n",
    "    for y,w,h,x in face_locations:                           #top,right,bottom,left\n",
    "        cv2.rectangle(frame, (x,y), (w,h), (255,255,0), 2)\n",
    "    \n",
    "    if results[0] == True:\n",
    "        cv2.putText(frame, \"Obama\", (x-5,y-6), cv2.FONT_HERSHEY_DUPLEX, 1.0, (0,0,255), 1)\n",
    "    else:\n",
    "        cv2.putText(frame, \"Unknown\", (x-5,y-6), cv2.FONT_HERSHEY_DUPLEX, 1.0, (0,0,255), 1)\n",
    "    \n",
    "    cv2.imshow('image',frame)\n",
    "#     time.sleep(100)\n",
    "\n",
    "    if cv2.waitKey(1) == ord('q'):\n",
    "            break\n",
    "            \n",
    "cv2.destroyAllWindows()"
   ]
  },
  {
   "cell_type": "code",
   "execution_count": null,
   "metadata": {},
   "outputs": [],
   "source": []
  }
 ],
 "metadata": {
  "kernelspec": {
   "display_name": "Python 3",
   "language": "python",
   "name": "python3"
  },
  "language_info": {
   "codemirror_mode": {
    "name": "ipython",
    "version": 3
   },
   "file_extension": ".py",
   "mimetype": "text/x-python",
   "name": "python",
   "nbconvert_exporter": "python",
   "pygments_lexer": "ipython3",
   "version": "3.8.6"
  }
 },
 "nbformat": 4,
 "nbformat_minor": 4
}
