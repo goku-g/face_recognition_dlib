{
 "cells": [
  {
   "cell_type": "code",
   "execution_count": 1,
   "metadata": {},
   "outputs": [],
   "source": [
    "import face_recognition\n",
    "import cv2\n",
    "import os\n",
    "import numpy as np\n",
    "\n",
    "known_dir = \"C:/Users/Goku/Documents/jupyter_data/known_image\"\n",
    "unknown_dir = \"C:/Users/Goku/Downloads/pictures/IMG_20201020_093953.jpg\""
   ]
  },
  {
   "cell_type": "code",
   "execution_count": 2,
   "metadata": {},
   "outputs": [],
   "source": [
    "knownData = []\n",
    "names = []\n",
    "\n",
    "for img in os.listdir(known_dir):\n",
    "    img_dir = os.path.join(known_dir, img)\n",
    "    name = img.split('.')[0]\n",
    "    image = face_recognition.load_image_file(img_dir)\n",
    "    face_encoding = face_recognition.face_encodings(image)[0]\n",
    "    names.append(name)\n",
    "    knownData.append(face_encoding)\n"
   ]
  },
  {
   "cell_type": "code",
   "execution_count": 8,
   "metadata": {},
   "outputs": [],
   "source": [
    "face_locations = []\n",
    "face_encodings = []\n",
    "face_names = []\n",
    "\n",
    "pic = cv2.imread(unknown_dir)\n",
    "# pic = cv2.cvtColor(pic, cv2.COLOR_BGR2RGB)\n",
    "\n",
    "# frame = cv2.resize(pic, (0, 0), fx=0.5, fy=0.5)\n",
    "frame = pic\n",
    "\n",
    "face_locations = face_recognition.face_locations(frame)          #find the location of all face in image\n",
    "face_encodings = face_recognition.face_encodings(frame, face_locations)  #128 dim face encoding (each for one face)\n",
    "\n",
    "\n",
    "for face_encoding in face_encodings:\n",
    "                                                                        # See if the face is a match for the known face(s)\n",
    "    matches = face_recognition.compare_faces(knownData, face_encoding)\n",
    "    name = \"Tha_xaina\"\n",
    "\n",
    "\n",
    "    face_distances = face_recognition.face_distance(knownData, face_encoding)\n",
    "    best_match_index = np.argmin(face_distances)\n",
    "\n",
    "    if matches[best_match_index]:\n",
    "        name = names[best_match_index]\n",
    "\n",
    "    face_names.append(name)\n",
    "\n",
    "i = 0\n",
    "for y,w,h,x in face_locations:                          #top,right,bottom,left\n",
    "\n",
    "#     y *= 2\n",
    "#     w *= 2\n",
    "#     h *= 2\n",
    "#     x *= 2\n",
    "    cv2.rectangle(pic, (x,y), (w,h), (255,255,0), 2)\n",
    "    cv2.putText(pic, face_names[i], (x-5,y-6), cv2.FONT_HERSHEY_DUPLEX, 2, (0,0,255), 2)\n",
    "    i += 1\n",
    "\n",
    "while(1):\n",
    "    \n",
    "    cv2.imshow('image',cv2.resize(pic, (0, 0), fx=0.5, fy=0.5))\n",
    "#     time.sleep(100)\n",
    "\n",
    "    if cv2.waitKey(1) == ord('q'):\n",
    "            break\n",
    "            \n",
    "cv2.destroyAllWindows()"
   ]
  },
  {
   "cell_type": "code",
   "execution_count": null,
   "metadata": {},
   "outputs": [],
   "source": []
  }
 ],
 "metadata": {
  "kernelspec": {
   "display_name": "Python 3",
   "language": "python",
   "name": "python3"
  },
  "language_info": {
   "codemirror_mode": {
    "name": "ipython",
    "version": 3
   },
   "file_extension": ".py",
   "mimetype": "text/x-python",
   "name": "python",
   "nbconvert_exporter": "python",
   "pygments_lexer": "ipython3",
   "version": "3.8.6"
  }
 },
 "nbformat": 4,
 "nbformat_minor": 4
}
